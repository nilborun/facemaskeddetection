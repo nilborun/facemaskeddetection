{
  "nbformat": 4,
  "nbformat_minor": 0,
  "metadata": {
    "colab": {
      "name": "MaskDetection.ipynb",
      "provenance": [],
      "authorship_tag": "ABX9TyPukhFECwB+p2ooP7pjnTj5",
      "include_colab_link": true
    },
    "kernelspec": {
      "name": "python3",
      "display_name": "Python 3"
    }
  },
  "cells": [
    {
      "cell_type": "markdown",
      "metadata": {
        "id": "view-in-github",
        "colab_type": "text"
      },
      "source": [
        "<a href=\"https://colab.research.google.com/github/nilborun/facemaskeddetection/blob/main/MaskDetection.ipynb\" target=\"_parent\"><img src=\"https://colab.research.google.com/assets/colab-badge.svg\" alt=\"Open In Colab\"/></a>"
      ]
    },
    {
      "cell_type": "code",
      "metadata": {
        "id": "wV_PSYKq8Cgy"
      },
      "source": [
        "import cv2\n",
        "import matplotlib.pyplot as plt\n",
        "%matplotlib inline\n",
        "import numpy as np\n",
        "import glob\n",
        "import os"
      ],
      "execution_count": 11,
      "outputs": []
    },
    {
      "cell_type": "code",
      "metadata": {
        "id": "oxXdJj7EL33y"
      },
      "source": [
        "normal_faces_img_directory='/content/drive/MyDrive/Colab Notebooks/MaskDetectionData/train/normalface/'\n",
        "masked_face_img_directory ='/content/drive/MyDrive/Colab Notebooks/MaskDetectionData/train/normalface/'"
      ],
      "execution_count": 12,
      "outputs": []
    },
    {
      "cell_type": "code",
      "metadata": {
        "id": "EqzlTTQ1MA6J"
      },
      "source": [
        "def display(img):\n",
        "  fig = plt.figure(figsize=(8,6))\n",
        "  ax=fig.add_subplot(111)\n",
        "  img=cv2.cvtColor(img,cv2.COLOR_BGR2RGB)\n",
        "  ax.imshow(img)"
      ],
      "execution_count": 13,
      "outputs": []
    },
    {
      "cell_type": "code",
      "metadata": {
        "id": "pR5hFuiTDwgz"
      },
      "source": [
        "def loadImage(imageDirectory):\n",
        "  image_data=[]\n",
        "  datapath=os.path.join(imageDirectory,'*g')\n",
        "  files=glob.glob(datapath)\n",
        "  for file in files:\n",
        "    img = cv2.imread(file)\n",
        "    image_data.append(img)\n",
        "  return image_data\n"
      ],
      "execution_count": 14,
      "outputs": []
    },
    {
      "cell_type": "code",
      "metadata": {
        "id": "FxpcQmCHPvBQ"
      },
      "source": [
        "def display_gray(img):\n",
        "  fig = plt.figure(figsize=(8,6))\n",
        "  ax=fig.add_subplot(111)\n",
        "  img=cv2.cvtColor(img,cv2.COLOR_BGR2GRAY)\n",
        "  ax.imshow(img,cmap='gray')"
      ],
      "execution_count": 15,
      "outputs": []
    },
    {
      "cell_type": "code",
      "metadata": {
        "id": "DJ8RIpZoQK15"
      },
      "source": [
        "def detectFaceMask(img):\n",
        "  pass"
      ],
      "execution_count": 16,
      "outputs": []
    },
    {
      "cell_type": "code",
      "metadata": {
        "id": "CkzhgTofDA53"
      },
      "source": [
        "normal_faces_images=loadImage(normal_faces_img_directory)"
      ],
      "execution_count": null,
      "outputs": []
    },
    {
      "cell_type": "code",
      "metadata": {
        "colab": {
          "base_uri": "https://localhost:8080/",
          "height": 180
        },
        "id": "XTqom9QkDGJf",
        "outputId": "f94846ad-a0cc-4ed5-a706-b2398f315bb4"
      },
      "source": [
        "single_image=normal_faces_images[0]\n",
        "display(single_image)"
      ],
      "execution_count": null,
      "outputs": [
        {
          "output_type": "error",
          "ename": "IndexError",
          "evalue": "ignored",
          "traceback": [
            "\u001b[0;31m---------------------------------------------------------------------------\u001b[0m",
            "\u001b[0;31mIndexError\u001b[0m                                Traceback (most recent call last)",
            "\u001b[0;32m<ipython-input-8-49c878220c43>\u001b[0m in \u001b[0;36m<module>\u001b[0;34m()\u001b[0m\n\u001b[0;32m----> 1\u001b[0;31m \u001b[0msingle_image\u001b[0m\u001b[0;34m=\u001b[0m\u001b[0mnormal_faces_images\u001b[0m\u001b[0;34m[\u001b[0m\u001b[0;36m0\u001b[0m\u001b[0;34m]\u001b[0m\u001b[0;34m\u001b[0m\u001b[0;34m\u001b[0m\u001b[0m\n\u001b[0m\u001b[1;32m      2\u001b[0m \u001b[0mdisplay\u001b[0m\u001b[0;34m(\u001b[0m\u001b[0msingle_image\u001b[0m\u001b[0;34m)\u001b[0m\u001b[0;34m\u001b[0m\u001b[0;34m\u001b[0m\u001b[0m\n",
            "\u001b[0;31mIndexError\u001b[0m: list index out of range"
          ]
        }
      ]
    },
    {
      "cell_type": "code",
      "metadata": {
        "id": "e-4w92ONDPuX"
      },
      "source": [
        "masked_faces=loadImage(masked_face_img_directory)"
      ],
      "execution_count": null,
      "outputs": []
    },
    {
      "cell_type": "code",
      "metadata": {
        "id": "R5RYRJs6cw3K",
        "colab": {
          "base_uri": "https://localhost:8080/",
          "height": 163
        },
        "outputId": "72180cf4-6cf1-4e64-ece9-09c4f37937e1"
      },
      "source": [
        "display(masked_faces[55])"
      ],
      "execution_count": null,
      "outputs": [
        {
          "output_type": "error",
          "ename": "IndexError",
          "evalue": "ignored",
          "traceback": [
            "\u001b[0;31m---------------------------------------------------------------------------\u001b[0m",
            "\u001b[0;31mIndexError\u001b[0m                                Traceback (most recent call last)",
            "\u001b[0;32m<ipython-input-10-68ab68dc032c>\u001b[0m in \u001b[0;36m<module>\u001b[0;34m()\u001b[0m\n\u001b[0;32m----> 1\u001b[0;31m \u001b[0mdisplay\u001b[0m\u001b[0;34m(\u001b[0m\u001b[0mmasked_faces\u001b[0m\u001b[0;34m[\u001b[0m\u001b[0;36m55\u001b[0m\u001b[0;34m]\u001b[0m\u001b[0;34m)\u001b[0m\u001b[0;34m\u001b[0m\u001b[0;34m\u001b[0m\u001b[0m\n\u001b[0m",
            "\u001b[0;31mIndexError\u001b[0m: list index out of range"
          ]
        }
      ]
    },
    {
      "cell_type": "code",
      "metadata": {
        "id": "Fx0wb1kwc1Fy"
      },
      "source": [
        ""
      ],
      "execution_count": null,
      "outputs": []
    }
  ]
}